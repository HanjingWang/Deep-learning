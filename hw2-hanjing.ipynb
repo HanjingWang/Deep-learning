{
  "nbformat": 4,
  "nbformat_minor": 0,
  "metadata": {
    "colab": {
      "name": "hw2.ipynb",
      "version": "0.3.2",
      "provenance": [],
      "collapsed_sections": []
    },
    "kernelspec": {
      "name": "python3",
      "display_name": "Python 3"
    },
    "accelerator": "GPU"
  },
  "cells": [
    {
      "metadata": {
        "id": "Jly6eEH4Fwm3",
        "colab_type": "text"
      },
      "cell_type": "markdown",
      "source": [
        "# Homework 2 \n",
        "\n",
        "## Hanjing Wang working with Jiajia Liu"
      ]
    },
    {
      "metadata": {
        "id": "pHvpWVKL-lYp",
        "colab_type": "code",
        "colab": {
          "base_uri": "https://localhost:8080/",
          "height": 34
        },
        "outputId": "39fc9b1c-212d-4077-ce72-d45e7eeede6a"
      },
      "cell_type": "code",
      "source": [
        "from keras.layers import Input, Dense, Conv2D, MaxPooling2D, UpSampling2D, Dropout, Activation, Flatten,Embedding,SimpleRNN, LSTM,Conv1D,MaxPooling1D\n",
        "from keras.models import Model,Sequential\n",
        "from keras.datasets import mnist,fashion_mnist\n",
        "import numpy as np\n",
        "import matplotlib.pyplot as plt\n",
        "# Tools for data transformation\n",
        "from keras.utils import np_utils\n",
        "from keras.optimizers import RMSprop"
      ],
      "execution_count": 1,
      "outputs": [
        {
          "output_type": "stream",
          "text": [
            "Using TensorFlow backend.\n"
          ],
          "name": "stderr"
        }
      ]
    },
    {
      "metadata": {
        "id": "7r0FYYFYHGYe",
        "colab_type": "text"
      },
      "cell_type": "markdown",
      "source": [
        "# Exercise 1"
      ]
    },
    {
      "metadata": {
        "id": "FDVukTumAImN",
        "colab_type": "code",
        "outputId": "160fb0ce-e42f-4023-9a67-fe0d5aa0c619",
        "colab": {
          "base_uri": "https://localhost:8080/",
          "height": 153
        }
      },
      "cell_type": "code",
      "source": [
        "(x_train, _), (x_test, _) = fashion_mnist.load_data()\n",
        "\n",
        "x_train = x_train.astype('float32') / 255.\n",
        "x_test = x_test.astype('float32') / 255.\n",
        "x_train = np.reshape(x_train, (len(x_train), 28, 28, 1))\n",
        "x_test = np.reshape(x_test, (len(x_test), 28, 28, 1))"
      ],
      "execution_count": 2,
      "outputs": [
        {
          "output_type": "stream",
          "text": [
            "Downloading data from http://fashion-mnist.s3-website.eu-central-1.amazonaws.com/train-labels-idx1-ubyte.gz\n",
            "32768/29515 [=================================] - 0s 8us/step\n",
            "Downloading data from http://fashion-mnist.s3-website.eu-central-1.amazonaws.com/train-images-idx3-ubyte.gz\n",
            "26427392/26421880 [==============================] - 4s 0us/step\n",
            "Downloading data from http://fashion-mnist.s3-website.eu-central-1.amazonaws.com/t10k-labels-idx1-ubyte.gz\n",
            "8192/5148 [===============================================] - 0s 0us/step\n",
            "Downloading data from http://fashion-mnist.s3-website.eu-central-1.amazonaws.com/t10k-images-idx3-ubyte.gz\n",
            "4423680/4422102 [==============================] - 2s 0us/step\n"
          ],
          "name": "stdout"
        }
      ]
    },
    {
      "metadata": {
        "id": "_SEdGs8KBBWY",
        "colab_type": "code",
        "outputId": "4825d59c-20bb-4b44-ddce-099c2533553a",
        "colab": {
          "base_uri": "https://localhost:8080/",
          "height": 34
        }
      },
      "cell_type": "code",
      "source": [
        "x_train.shape"
      ],
      "execution_count": 3,
      "outputs": [
        {
          "output_type": "execute_result",
          "data": {
            "text/plain": [
              "(60000, 28, 28, 1)"
            ]
          },
          "metadata": {
            "tags": []
          },
          "execution_count": 3
        }
      ]
    },
    {
      "metadata": {
        "id": "pVheZWo5BNGo",
        "colab_type": "code",
        "colab": {}
      },
      "cell_type": "code",
      "source": [
        "# Convolutional autoencoder\n",
        "input_img = Input(shape=(28, 28, 1))\n",
        "\n",
        "# for the encoded layer\n",
        "x = Conv2D(16, (2, 2), activation='relu', padding='same')(input_img)\n",
        "x = MaxPooling2D((2, 2), padding='same')(x)\n",
        "x = Conv2D(8, (2, 2), activation='relu', padding='same')(x)\n",
        "x = MaxPooling2D((2, 2), padding='same')(x)\n",
        "x = Conv2D(8, (2, 2), activation='relu', padding='same')(x)\n",
        "encoded = MaxPooling2D((2, 2), padding='same')(x)\n",
        "\n",
        "# for the decoded layer\n",
        "x = Conv2D(8, (3, 3), activation='relu', padding='same')(encoded)\n",
        "x = UpSampling2D((2, 2))(x)\n",
        "x = Conv2D(8, (3, 3), activation='relu', padding='same')(x)\n",
        "x = UpSampling2D((2, 2))(x)\n",
        "x = Conv2D(16, (3, 3), activation='relu')(x)\n",
        "x = UpSampling2D((2, 2))(x)\n",
        "decoded = Conv2D(1, (3, 3), activation='sigmoid', padding='same')(x)\n",
        "\n",
        "autoencoder = Model(input_img, decoded)\n",
        "autoencoder.compile(optimizer='adadelta', loss='binary_crossentropy')"
      ],
      "execution_count": 0,
      "outputs": []
    },
    {
      "metadata": {
        "id": "xQNOI1jFCbpr",
        "colab_type": "code",
        "outputId": "d70a776e-efbe-48c6-855e-6dbb81bd10a8",
        "colab": {
          "base_uri": "https://localhost:8080/",
          "height": 374
        }
      },
      "cell_type": "code",
      "source": [
        "from keras.callbacks import TensorBoard\n",
        "\n",
        "autoencoder.fit(x_train, x_train,\n",
        "                epochs=10,\n",
        "                batch_size=36,\n",
        "                shuffle=True,\n",
        "                callbacks=[TensorBoard(log_dir='/tmp/autoencoder')])"
      ],
      "execution_count": 5,
      "outputs": [
        {
          "output_type": "stream",
          "text": [
            "Epoch 1/10\n",
            "60000/60000 [==============================] - 22s 373us/step - loss: 0.3388\n",
            "Epoch 2/10\n",
            "60000/60000 [==============================] - 20s 337us/step - loss: 0.3072\n",
            "Epoch 3/10\n",
            "60000/60000 [==============================] - 20s 335us/step - loss: 0.3009\n",
            "Epoch 4/10\n",
            "60000/60000 [==============================] - 20s 334us/step - loss: 0.2974\n",
            "Epoch 5/10\n",
            "60000/60000 [==============================] - 20s 334us/step - loss: 0.2951\n",
            "Epoch 6/10\n",
            "60000/60000 [==============================] - 20s 335us/step - loss: 0.2932\n",
            "Epoch 7/10\n",
            "60000/60000 [==============================] - 20s 337us/step - loss: 0.2920\n",
            "Epoch 8/10\n",
            "60000/60000 [==============================] - 20s 340us/step - loss: 0.2911\n",
            "Epoch 9/10\n",
            "60000/60000 [==============================] - 20s 336us/step - loss: 0.2902\n",
            "Epoch 10/10\n",
            "60000/60000 [==============================] - 20s 335us/step - loss: 0.2890\n"
          ],
          "name": "stdout"
        },
        {
          "output_type": "execute_result",
          "data": {
            "text/plain": [
              "<keras.callbacks.History at 0x7f24ebb39da0>"
            ]
          },
          "metadata": {
            "tags": []
          },
          "execution_count": 5
        }
      ]
    },
    {
      "metadata": {
        "id": "gmWs6sxjBSu5",
        "colab_type": "text"
      },
      "cell_type": "markdown",
      "source": [
        "Then we could show the image. The first row is the input images and the second row is the decoded reconstruction"
      ]
    },
    {
      "metadata": {
        "id": "aXZEyIqZE_Hd",
        "colab_type": "code",
        "outputId": "32459ec5-9c58-4f0c-ba69-2e3e644e60e9",
        "colab": {
          "base_uri": "https://localhost:8080/",
          "height": 248
        }
      },
      "cell_type": "code",
      "source": [
        "decoded_imgs = autoencoder.predict(x_test)\n",
        "\n",
        "n = 5\n",
        "plt.figure(figsize=(20, 4))\n",
        "for i in range(n):\n",
        "    # display original\n",
        "    ax = plt.subplot(2, n, i+1)\n",
        "    plt.imshow(x_test[i].reshape(28, 28))\n",
        "    plt.gray()\n",
        "    ax.get_xaxis().set_visible(False)\n",
        "    ax.get_yaxis().set_visible(False)\n",
        "\n",
        "    # display reconstruction\n",
        "    ax = plt.subplot(2, n, i + n+1)\n",
        "    plt.imshow(decoded_imgs[i].reshape(28, 28))\n",
        "    plt.gray()\n",
        "    ax.get_xaxis().set_visible(False)\n",
        "    ax.get_yaxis().set_visible(False)\n",
        "plt.show()"
      ],
      "execution_count": 6,
      "outputs": [
        {
          "output_type": "display_data",
          "data": {
            "image/png": "[encoded data removed]",
            "text/plain": [
              "<matplotlib.figure.Figure at 0x7f24e03c6eb8>"
            ]
          },
          "metadata": {
            "tags": []
          }
        }
      ]
    },
    {
      "metadata": {
        "id": "lz5Ai9Y9HO7E",
        "colab_type": "text"
      },
      "cell_type": "markdown",
      "source": [
        "# Exercise 2"
      ]
    },
    {
      "metadata": {
        "id": "Idqiwtv6N7Gb",
        "colab_type": "text"
      },
      "cell_type": "markdown",
      "source": [
        "## Deep CNN"
      ]
    },
    {
      "metadata": {
        "id": "NtwbWQKfK2KN",
        "colab_type": "code",
        "outputId": "ae125020-a0ec-4545-91ae-df6acaa07616",
        "colab": {
          "base_uri": "https://localhost:8080/",
          "height": 68
        }
      },
      "cell_type": "code",
      "source": [
        "# ========================\n",
        "#  Data Munging/Reshaping\n",
        "# ========================\n",
        "# Load pre-shuffled fashion MNIST data into train and test sets\n",
        "(X_train, y_train), (X_test, y_test) = fashion_mnist.load_data()\n",
        "# Declaring a depth of 1 for MNIST\n",
        "X_train = X_train.reshape(X_train.shape[0], 28, 28,1)\n",
        "X_test = X_test.reshape(X_test.shape[0], 28, 28,1)\n",
        "\n",
        "# Setting up calues as float32s that are bounded between 0 and 1\n",
        "X_train = X_train.astype('float32')\n",
        "X_test = X_test.astype('float32')\n",
        "X_train /= 255\n",
        "X_test /= 255\n",
        "\n",
        "# Processing class labels they are currently a numeric vector\n",
        "# ----> we need to transform them into categories\n",
        "print (y_train.shape)\n",
        "print (y_train[:10])\n",
        "\n",
        "# We do this through one-hot encoding\n",
        "# Convert 1-dimensional class arrays to 10-dimensional class matrices\n",
        "Y_train = np_utils.to_categorical(y_train, 10)\n",
        "Y_test = np_utils.to_categorical(y_test, 10)\n",
        "# Check the shape\n",
        "print(Y_train.shape)"
      ],
      "execution_count": 7,
      "outputs": [
        {
          "output_type": "stream",
          "text": [
            "(60000,)\n",
            "[9 0 0 3 0 2 7 2 5 5]\n",
            "(60000, 10)\n"
          ],
          "name": "stdout"
        }
      ]
    },
    {
      "metadata": {
        "id": "HTOx9sd5CB7r",
        "colab_type": "text"
      },
      "cell_type": "markdown",
      "source": [
        "Then, we set up our Deep CNN architecture. We first add a 2D convolutional layer with filters depth 16, kernel_size (2,2), strides (1,1), activation function 'relu' and padding method 'valid'. Then we add another 2D convolutional layer with filters depth 16, kernel_size (3,3), strides (1,1), activation function 'relu' and padding method 'valid'. Next, we Apply MaxPooling2D with pool_size (2,2) and Dropout(0.25). What's more, we flatten all our parameters and add a Dence layer of size 64 with activation function 'relu'. Finally, we add a dropout layer and generate a final output layer of size 10 for the 10 class classification problem."
      ]
    },
    {
      "metadata": {
        "id": "Eq4nybGhHRej",
        "colab_type": "code",
        "outputId": "f3ab5678-5866-4429-b058-439051cd87eb",
        "colab": {
          "base_uri": "https://localhost:8080/",
          "height": 442
        }
      },
      "cell_type": "code",
      "source": [
        "# =============================\n",
        "#  Setting up the Architecture\n",
        "# ============================\n",
        "# Declaring sequential model\n",
        "model = Sequential()\n",
        "# CNN input layer: input_shape: (depth,width,height)\n",
        "# CNN convolution: number of filters, height and width of kernel\n",
        "model.add(Conv2D(filters = 16,kernel_size=(2, 2), \n",
        "                 activation='relu', strides=(1, 1), \n",
        "                 padding='valid',\n",
        "                 input_shape=(28,28,1)))\n",
        "# Notice here the the first entry output is none\n",
        "print(model.output_shape)\n",
        "\n",
        "# Next we add the remaining layers\n",
        "model.add(Conv2D(filters = 16,kernel_size=(3, 3), \n",
        "                 activation='relu', strides=(1, 1), \n",
        "                 padding='valid', input_shape=(28,28,1)))\n",
        "model.add(MaxPooling2D(pool_size=(2,2)))\n",
        "model.add(Dropout(0.25))\n",
        "\n",
        "# Setting up the fully connected lauer\n",
        "model.add(Flatten())\n",
        "model.add(Dense(64, activation='relu'))\n",
        "model.add(Dropout(0.5))\n",
        "model.add(Dense(10, activation='softmax'))\n",
        "print (model.summary())"
      ],
      "execution_count": 8,
      "outputs": [
        {
          "output_type": "stream",
          "text": [
            "(None, 27, 27, 16)\n",
            "_________________________________________________________________\n",
            "Layer (type)                 Output Shape              Param #   \n",
            "=================================================================\n",
            "conv2d_8 (Conv2D)            (None, 27, 27, 16)        80        \n",
            "_________________________________________________________________\n",
            "conv2d_9 (Conv2D)            (None, 25, 25, 16)        2320      \n",
            "_________________________________________________________________\n",
            "max_pooling2d_4 (MaxPooling2 (None, 12, 12, 16)        0         \n",
            "_________________________________________________________________\n",
            "dropout_1 (Dropout)          (None, 12, 12, 16)        0         \n",
            "_________________________________________________________________\n",
            "flatten_1 (Flatten)          (None, 2304)              0         \n",
            "_________________________________________________________________\n",
            "dense_1 (Dense)              (None, 64)                147520    \n",
            "_________________________________________________________________\n",
            "dropout_2 (Dropout)          (None, 64)                0         \n",
            "_________________________________________________________________\n",
            "dense_2 (Dense)              (None, 10)                650       \n",
            "=================================================================\n",
            "Total params: 150,570\n",
            "Trainable params: 150,570\n",
            "Non-trainable params: 0\n",
            "_________________________________________________________________\n",
            "None\n"
          ],
          "name": "stdout"
        }
      ]
    },
    {
      "metadata": {
        "id": "5X85xtiUKdRK",
        "colab_type": "code",
        "outputId": "f4790018-45dd-43b1-f279-c3902cca21df",
        "colab": {
          "base_uri": "https://localhost:8080/",
          "height": 374
        }
      },
      "cell_type": "code",
      "source": [
        "# =====================\n",
        "#  Compiling the model\n",
        "# =====================\n",
        "model.compile(loss='categorical_crossentropy',\n",
        "              optimizer='adam',\n",
        "              metrics=['accuracy'])\n",
        "\n",
        "# ===================\n",
        "# Fitting the model\n",
        "# ===================\n",
        "model.fit(X_train, Y_train,\n",
        "          epochs=10,\n",
        "          batch_size=128)"
      ],
      "execution_count": 9,
      "outputs": [
        {
          "output_type": "stream",
          "text": [
            "Epoch 1/10\n",
            "60000/60000 [==============================] - 6s 106us/step - loss: 0.7079 - acc: 0.7491\n",
            "Epoch 2/10\n",
            "60000/60000 [==============================] - 5s 90us/step - loss: 0.4560 - acc: 0.8377\n",
            "Epoch 3/10\n",
            "60000/60000 [==============================] - 5s 88us/step - loss: 0.4106 - acc: 0.8540\n",
            "Epoch 4/10\n",
            "60000/60000 [==============================] - 5s 88us/step - loss: 0.3808 - acc: 0.8638\n",
            "Epoch 5/10\n",
            "60000/60000 [==============================] - 5s 88us/step - loss: 0.3591 - acc: 0.8717\n",
            "Epoch 6/10\n",
            "60000/60000 [==============================] - 5s 88us/step - loss: 0.3446 - acc: 0.8762\n",
            "Epoch 7/10\n",
            "60000/60000 [==============================] - 5s 89us/step - loss: 0.3283 - acc: 0.8817\n",
            "Epoch 8/10\n",
            "60000/60000 [==============================] - 5s 89us/step - loss: 0.3153 - acc: 0.8868\n",
            "Epoch 9/10\n",
            "60000/60000 [==============================] - 5s 88us/step - loss: 0.3056 - acc: 0.8902\n",
            "Epoch 10/10\n",
            "60000/60000 [==============================] - 5s 89us/step - loss: 0.2957 - acc: 0.8924\n"
          ],
          "name": "stdout"
        },
        {
          "output_type": "execute_result",
          "data": {
            "text/plain": [
              "<keras.callbacks.History at 0x7f24e03c6550>"
            ]
          },
          "metadata": {
            "tags": []
          },
          "execution_count": 9
        }
      ]
    },
    {
      "metadata": {
        "id": "kus6jdYZLqdh",
        "colab_type": "code",
        "outputId": "f1db8d46-7fd1-44cb-a1b1-ffa3e07b6db1",
        "colab": {
          "base_uri": "https://localhost:8080/",
          "height": 51
        }
      },
      "cell_type": "code",
      "source": [
        "# =====================\n",
        "#  Evaluating the model\n",
        "# =====================\n",
        "model.evaluate(X_test, Y_test)"
      ],
      "execution_count": 10,
      "outputs": [
        {
          "output_type": "stream",
          "text": [
            "10000/10000 [==============================] - 1s 86us/step\n"
          ],
          "name": "stdout"
        },
        {
          "output_type": "execute_result",
          "data": {
            "text/plain": [
              "[0.25667745584249496, 0.9104]"
            ]
          },
          "metadata": {
            "tags": []
          },
          "execution_count": 10
        }
      ]
    },
    {
      "metadata": {
        "id": "ZD5vxeihGhGF",
        "colab_type": "text"
      },
      "cell_type": "markdown",
      "source": [
        "From above, we could see that the training error after the 10 epoches is 0.8924. The test error is 0.9104 which could show that it is a pretty good model. The accuracy is almost 1 for the 10 class classification problem."
      ]
    },
    {
      "metadata": {
        "id": "d_qXOPzfLsEV",
        "colab_type": "text"
      },
      "cell_type": "markdown",
      "source": [
        "## Transfer learning"
      ]
    },
    {
      "metadata": {
        "id": "n1hDmt9fLu3Q",
        "colab_type": "code",
        "colab": {}
      },
      "cell_type": "code",
      "source": [
        "from keras.applications import VGG16, ResNet50\n",
        "from keras.preprocessing.image import ImageDataGenerator, array_to_img, img_to_array, load_img\n",
        "from keras import backend as K\n",
        "import tensorflow as tf\n",
        "\n",
        "def grayscale_to_rgb(images, channel_axis=-1):\n",
        "    images= K.expand_dims(images, axis=channel_axis)\n",
        "    tiling = [1] * 4    # 4 dimensions: B, H, W, C\n",
        "    tiling[channel_axis] *= 3\n",
        "    images= K.tile(images, tiling)\n",
        "    return images\n",
        " \n",
        "(X_train, y_train), (X_test, y_test) = fashion_mnist.load_data()\n",
        "# Declaring a depth of 1 for MNIST\n",
        "X_train = X_train.reshape(X_train.shape[0], 28, 28)\n",
        "X_test = X_test.reshape(X_test.shape[0], 28, 28)\n",
        "\n",
        "Y_train = np_utils.to_categorical(y_train, 10)\n",
        "Y_test = np_utils.to_categorical(y_test, 10)\n",
        "\n",
        "# tranfer the greyscale data to rgb and (28,28,3) images to (32,32,3)\n",
        "x_train = grayscale_to_rgb(X_train)\n",
        "x_train = tf.image.resize_images(x_train, [32, 32])\n",
        "\n",
        "x_test = grayscale_to_rgb(X_test)\n",
        "x_test = tf.image.resize_images(x_test, [32, 32])\n",
        "\n",
        "sess = tf.Session()\n",
        "x_train = sess.run(x_train)\n",
        "x_test= sess.run(x_test)"
      ],
      "execution_count": 0,
      "outputs": []
    },
    {
      "metadata": {
        "id": "MCNSQGOdOYNT",
        "colab_type": "code",
        "colab": {}
      },
      "cell_type": "code",
      "source": [
        "conv_base = VGG16(weights=\"imagenet\",include_top=False,input_shape=(32,32,3))"
      ],
      "execution_count": 0,
      "outputs": []
    },
    {
      "metadata": {
        "id": "E5fIR4GAUYw6",
        "colab_type": "code",
        "outputId": "a39631bf-8b9b-4780-e710-93b59aa88325",
        "colab": {
          "base_uri": "https://localhost:8080/",
          "height": 306
        }
      },
      "cell_type": "code",
      "source": [
        "model = Sequential()\n",
        "model.add(conv_base)\n",
        "model.add(Flatten())\n",
        "model.add(Dense(64, activation=\"relu\"))\n",
        "model.add(Dense(64, activation=\"relu\"))\n",
        "model.add(Dense(10, activation=\"sigmoid\"))\n",
        "model.summary()"
      ],
      "execution_count": 21,
      "outputs": [
        {
          "output_type": "stream",
          "text": [
            "_________________________________________________________________\n",
            "Layer (type)                 Output Shape              Param #   \n",
            "=================================================================\n",
            "vgg16 (Model)                (None, 1, 1, 512)         14714688  \n",
            "_________________________________________________________________\n",
            "flatten_3 (Flatten)          (None, 512)               0         \n",
            "_________________________________________________________________\n",
            "dense_6 (Dense)              (None, 64)                32832     \n",
            "_________________________________________________________________\n",
            "dense_7 (Dense)              (None, 64)                4160      \n",
            "_________________________________________________________________\n",
            "dense_8 (Dense)              (None, 10)                650       \n",
            "=================================================================\n",
            "Total params: 14,752,330\n",
            "Trainable params: 14,752,330\n",
            "Non-trainable params: 0\n",
            "_________________________________________________________________\n"
          ],
          "name": "stdout"
        }
      ]
    },
    {
      "metadata": {
        "id": "IqKjWj6JV8nN",
        "colab_type": "code",
        "outputId": "972516b8-5e8c-4d54-c69f-95aa45f20778",
        "colab": {
          "base_uri": "https://localhost:8080/",
          "height": 119
        }
      },
      "cell_type": "code",
      "source": [
        "conv_base.trainable = False\n",
        "model.trainable_weights"
      ],
      "execution_count": 22,
      "outputs": [
        {
          "output_type": "execute_result",
          "data": {
            "text/plain": [
              "[<tf.Variable 'dense_6/kernel:0' shape=(512, 64) dtype=float32_ref>,\n",
              " <tf.Variable 'dense_6/bias:0' shape=(64,) dtype=float32_ref>,\n",
              " <tf.Variable 'dense_7/kernel:0' shape=(64, 64) dtype=float32_ref>,\n",
              " <tf.Variable 'dense_7/bias:0' shape=(64,) dtype=float32_ref>,\n",
              " <tf.Variable 'dense_8/kernel:0' shape=(64, 10) dtype=float32_ref>,\n",
              " <tf.Variable 'dense_8/bias:0' shape=(10,) dtype=float32_ref>]"
            ]
          },
          "metadata": {
            "tags": []
          },
          "execution_count": 22
        }
      ]
    },
    {
      "metadata": {
        "id": "hEcj7szLWCUi",
        "colab_type": "code",
        "colab": {}
      },
      "cell_type": "code",
      "source": [
        "model.compile(loss=\"categorical_crossentropy\", optimizer=RMSprop(1e-4),metrics=[\"acc\"])"
      ],
      "execution_count": 0,
      "outputs": []
    },
    {
      "metadata": {
        "id": "V6gpF6S0WWhV",
        "colab_type": "code",
        "outputId": "fd11e0af-a5c2-4b9d-8099-0a3c998be4ea",
        "colab": {
          "base_uri": "https://localhost:8080/",
          "height": 374
        }
      },
      "cell_type": "code",
      "source": [
        "model.fit(x_train, Y_train, epochs=10, batch_size = 128)"
      ],
      "execution_count": 24,
      "outputs": [
        {
          "output_type": "stream",
          "text": [
            "Epoch 1/10\n",
            "60000/60000 [==============================] - 19s 317us/step - loss: 1.6070 - acc: 0.3259\n",
            "Epoch 2/10\n",
            "60000/60000 [==============================] - 19s 310us/step - loss: 0.9047 - acc: 0.5956\n",
            "Epoch 3/10\n",
            "60000/60000 [==============================] - 19s 311us/step - loss: 0.7287 - acc: 0.7279\n",
            "Epoch 4/10\n",
            "60000/60000 [==============================] - 19s 313us/step - loss: 0.6264 - acc: 0.7828\n",
            "Epoch 5/10\n",
            "60000/60000 [==============================] - 19s 316us/step - loss: 0.5696 - acc: 0.8015\n",
            "Epoch 6/10\n",
            "60000/60000 [==============================] - 19s 317us/step - loss: 0.5306 - acc: 0.8140\n",
            "Epoch 7/10\n",
            "60000/60000 [==============================] - 19s 315us/step - loss: 0.5016 - acc: 0.8226\n",
            "Epoch 8/10\n",
            "60000/60000 [==============================] - 19s 314us/step - loss: 0.4787 - acc: 0.8303\n",
            "Epoch 9/10\n",
            "60000/60000 [==============================] - 19s 314us/step - loss: 0.4594 - acc: 0.8358\n",
            "Epoch 10/10\n",
            "60000/60000 [==============================] - 19s 314us/step - loss: 0.4433 - acc: 0.8407\n"
          ],
          "name": "stdout"
        },
        {
          "output_type": "execute_result",
          "data": {
            "text/plain": [
              "<keras.callbacks.History at 0x7f24c8ca80f0>"
            ]
          },
          "metadata": {
            "tags": []
          },
          "execution_count": 24
        }
      ]
    },
    {
      "metadata": {
        "id": "N4idyEe9XrIH",
        "colab_type": "code",
        "outputId": "3ef46265-47b1-4d25-8407-752b9475a184",
        "colab": {
          "base_uri": "https://localhost:8080/",
          "height": 51
        }
      },
      "cell_type": "code",
      "source": [
        "model.evaluate(x_test, Y_test)"
      ],
      "execution_count": 25,
      "outputs": [
        {
          "output_type": "stream",
          "text": [
            "10000/10000 [==============================] - 6s 602us/step\n"
          ],
          "name": "stdout"
        },
        {
          "output_type": "execute_result",
          "data": {
            "text/plain": [
              "[0.5297972127676011, 0.8231]"
            ]
          },
          "metadata": {
            "tags": []
          },
          "execution_count": 25
        }
      ]
    },
    {
      "metadata": {
        "id": "OUAjRbiTJA9w",
        "colab_type": "text"
      },
      "cell_type": "markdown",
      "source": [
        "From above, we could see that the training error after the 10 epoches is 0.8407. The test error is 0.8231 which could show that it is a good model. However, it is not as good as the Deep CNN model."
      ]
    },
    {
      "metadata": {
        "id": "Pg2MovsFjr2i",
        "colab_type": "text"
      },
      "cell_type": "markdown",
      "source": [
        "# Exercise 3"
      ]
    },
    {
      "metadata": {
        "id": "BvBSOO9cMpFx",
        "colab_type": "code",
        "colab": {}
      },
      "cell_type": "code",
      "source": [
        "import urllib\n",
        "import pandas as pd\n",
        "\n",
        "# load the data\n",
        "link1 = \"https://s3.amazonaws.com/anly-590/url-classification/benign-urls.txt\"\n",
        "link2 = 'https://s3.amazonaws.com/anly-590/url-classification/malicious-urls.txt'\n",
        "f = urllib.request.urlopen(link1)\n",
        "g = urllib.request.urlopen(link2)\n",
        "\n",
        "# clean the comment, for example, # GOOGLE\n",
        "benign = f.readlines()\n",
        "benign = [i[:-1] for i in benign if 35 not in i]\n",
        "benign_label = list(np.repeat(0,len(benign)))\n",
        "malicious = g.readlines()\n",
        "malicious = [i[:-1] for i in malicious]\n",
        "malicious_label = list(np.repeat(1,len(malicious)))\n",
        "url_text = benign+malicious\n",
        "label = benign_label + malicious_label\n"
      ],
      "execution_count": 0,
      "outputs": []
    },
    {
      "metadata": {
        "id": "xyQNsh0nNJjB",
        "colab_type": "code",
        "outputId": "9d7fd67a-4e41-4e96-c658-626a4231a3cc",
        "colab": {
          "base_uri": "https://localhost:8080/",
          "height": 204
        }
      },
      "cell_type": "code",
      "source": [
        "# create a dataframe for the url and label\n",
        "# 0 represent the benigh\n",
        "# 1 represent the malicious\n",
        "url = pd.DataFrame({'url':url_text, 'label': label})\n",
        "url.head(5)"
      ],
      "execution_count": 27,
      "outputs": [
        {
          "output_type": "execute_result",
          "data": {
            "text/html": [
              "<div>\n",
              "<style scoped>\n",
              "    .dataframe tbody tr th:only-of-type {\n",
              "        vertical-align: middle;\n",
              "    }\n",
              "\n",
              "    .dataframe tbody tr th {\n",
              "        vertical-align: top;\n",
              "    }\n",
              "\n",
              "    .dataframe thead th {\n",
              "        text-align: right;\n",
              "    }\n",
              "</style>\n",
              "<table border=\"1\" class=\"dataframe\">\n",
              "  <thead>\n",
              "    <tr style=\"text-align: right;\">\n",
              "      <th></th>\n",
              "      <th>label</th>\n",
              "      <th>url</th>\n",
              "    </tr>\n",
              "  </thead>\n",
              "  <tbody>\n",
              "    <tr>\n",
              "      <th>0</th>\n",
              "      <td>0</td>\n",
              "      <td>b'.0.blogger.gmodules.com'</td>\n",
              "    </tr>\n",
              "    <tr>\n",
              "      <th>1</th>\n",
              "      <td>0</td>\n",
              "      <td>b'.0.client-channel.google.com'</td>\n",
              "    </tr>\n",
              "    <tr>\n",
              "      <th>2</th>\n",
              "      <td>0</td>\n",
              "      <td>b'.0.docs.google.com'</td>\n",
              "    </tr>\n",
              "    <tr>\n",
              "      <th>3</th>\n",
              "      <td>0</td>\n",
              "      <td>b'.0.drive.google.com'</td>\n",
              "    </tr>\n",
              "    <tr>\n",
              "      <th>4</th>\n",
              "      <td>0</td>\n",
              "      <td>b'.0.gvt0.cn'</td>\n",
              "    </tr>\n",
              "  </tbody>\n",
              "</table>\n",
              "</div>"
            ],
            "text/plain": [
              "   label                              url\n",
              "0      0       b'.0.blogger.gmodules.com'\n",
              "1      0  b'.0.client-channel.google.com'\n",
              "2      0            b'.0.docs.google.com'\n",
              "3      0           b'.0.drive.google.com'\n",
              "4      0                    b'.0.gvt0.cn'"
            ]
          },
          "metadata": {
            "tags": []
          },
          "execution_count": 27
        }
      ]
    },
    {
      "metadata": {
        "id": "POMOSuZdpFff",
        "colab_type": "code",
        "colab": {}
      },
      "cell_type": "code",
      "source": [
        "# convert the bytes type url to numerical using one-hot encoding\n",
        "sample = []\n",
        "for i in url['url']:\n",
        "    temp = []\n",
        "    for j in i:\n",
        "        temp.append(j)\n",
        "    sample.append(temp)\n",
        "      "
      ],
      "execution_count": 0,
      "outputs": []
    },
    {
      "metadata": {
        "id": "uLfAT8GxMmfx",
        "colab_type": "text"
      },
      "cell_type": "markdown",
      "source": [
        "## RNN"
      ]
    },
    {
      "metadata": {
        "id": "_FXPfkj1jud_",
        "colab_type": "code",
        "colab": {}
      },
      "cell_type": "code",
      "source": [
        "from keras.preprocessing import sequence\n",
        "# --- Setting up constants ---\n",
        "# Number of words as features, we keep only the top most-common words\n",
        "max_features = 10000\n",
        "# Max number of words in comments (truncate the rest)\n",
        "max_len = 24 # If not set here, will use the max comment length which is 1132\n",
        "\n"
      ],
      "execution_count": 0,
      "outputs": []
    },
    {
      "metadata": {
        "id": "_sns_l7pzsP6",
        "colab_type": "code",
        "colab": {}
      },
      "cell_type": "code",
      "source": [
        "# split the training set and test set\n",
        "from sklearn.model_selection import train_test_split\n",
        "x = sequence.pad_sequences(sample, maxlen = max_len)\n",
        "y = y_train = url['label']\n",
        "\n",
        "x_train, x_test, Y_train, Y_test = train_test_split(x, y, test_size=0.33, random_state=42)\n",
        "\n",
        "\n",
        "y_train = np_utils.to_categorical(Y_train, 2)\n",
        "y_test = np_utils.to_categorical(Y_test, 2)"
      ],
      "execution_count": 0,
      "outputs": []
    },
    {
      "metadata": {
        "id": "6f_9MsVJqCgZ",
        "colab_type": "code",
        "outputId": "a5918c43-5b25-4b0d-b411-8e3a5402df99",
        "colab": {
          "base_uri": "https://localhost:8080/",
          "height": 51
        }
      },
      "cell_type": "code",
      "source": [
        "# print hte x_train\n",
        "x_train[0]"
      ],
      "execution_count": 31,
      "outputs": [
        {
          "output_type": "execute_result",
          "data": {
            "text/plain": [
              "array([ 46,  97, 105, 100, 109, 112,  48,  52,  48,  50,  46, 117, 115,\n",
              "        46, 111, 114,  97,  99, 108, 101,  46,  99, 111, 109], dtype=int32)"
            ]
          },
          "metadata": {
            "tags": []
          },
          "execution_count": 31
        }
      ]
    },
    {
      "metadata": {
        "id": "IyWwwOxBx4AD",
        "colab_type": "code",
        "outputId": "bd1cd7fe-1cd6-4f48-e863-59c63accfe62",
        "colab": {
          "base_uri": "https://localhost:8080/",
          "height": 238
        }
      },
      "cell_type": "code",
      "source": [
        "# --- Training model: Embedding + RNN ---\n",
        "model = Sequential()\n",
        "model.add(Embedding(max_features, max_len))\n",
        "model.add(LSTM(32))\n",
        "model.add(Dense(2, activation ='sigmoid'))\n",
        "model.summary()"
      ],
      "execution_count": 32,
      "outputs": [
        {
          "output_type": "stream",
          "text": [
            "_________________________________________________________________\n",
            "Layer (type)                 Output Shape              Param #   \n",
            "=================================================================\n",
            "embedding_1 (Embedding)      (None, None, 24)          240000    \n",
            "_________________________________________________________________\n",
            "lstm_1 (LSTM)                (None, 32)                7296      \n",
            "_________________________________________________________________\n",
            "dense_9 (Dense)              (None, 2)                 66        \n",
            "=================================================================\n",
            "Total params: 247,362\n",
            "Trainable params: 247,362\n",
            "Non-trainable params: 0\n",
            "_________________________________________________________________\n"
          ],
          "name": "stdout"
        }
      ]
    },
    {
      "metadata": {
        "id": "UvDjsk4my1S_",
        "colab_type": "code",
        "outputId": "c2a4992f-a8f5-4e11-c677-020db05e1f63",
        "colab": {
          "base_uri": "https://localhost:8080/",
          "height": 374
        }
      },
      "cell_type": "code",
      "source": [
        "# --- Compile Model ---\n",
        "#Compile model\n",
        "model.compile(optimizer = 'rmsprop',\n",
        "             loss = 'binary_crossentropy',\n",
        "             metrics=['acc'])\n",
        "history = model.fit(x_train, y_train, \n",
        "                    epochs = 10, batch_size = 64, \n",
        "                    validation_split = 0.2,verbose=1)"
      ],
      "execution_count": 33,
      "outputs": [
        {
          "output_type": "stream",
          "text": [
            "Train on 36078 samples, validate on 9020 samples\n",
            "Epoch 1/10\n",
            "36078/36078 [==============================] - 38s 1ms/step - loss: 0.0838 - acc: 0.9799 - val_loss: 0.0564 - val_acc: 0.9800\n",
            "Epoch 2/10\n",
            "36078/36078 [==============================] - 36s 1ms/step - loss: 0.0482 - acc: 0.9808 - val_loss: 0.0411 - val_acc: 0.9802\n",
            "Epoch 3/10\n",
            "36078/36078 [==============================] - 36s 999us/step - loss: 0.0348 - acc: 0.9843 - val_loss: 0.0284 - val_acc: 0.9879\n",
            "Epoch 4/10\n",
            "36078/36078 [==============================] - 36s 998us/step - loss: 0.0303 - acc: 0.9869 - val_loss: 0.0259 - val_acc: 0.9882\n",
            "Epoch 5/10\n",
            "36078/36078 [==============================] - 37s 1ms/step - loss: 0.0282 - acc: 0.9871 - val_loss: 0.0241 - val_acc: 0.9894\n",
            "Epoch 6/10\n",
            "36078/36078 [==============================] - 37s 1ms/step - loss: 0.0271 - acc: 0.9876 - val_loss: 0.0251 - val_acc: 0.9886\n",
            "Epoch 7/10\n",
            "36078/36078 [==============================] - 36s 1ms/step - loss: 0.0268 - acc: 0.9878 - val_loss: 0.0255 - val_acc: 0.9875\n",
            "Epoch 8/10\n",
            "36078/36078 [==============================] - 36s 1ms/step - loss: 0.0260 - acc: 0.9883 - val_loss: 0.0235 - val_acc: 0.9896\n",
            "Epoch 9/10\n",
            "36078/36078 [==============================] - 36s 1ms/step - loss: 0.0253 - acc: 0.9884 - val_loss: 0.0259 - val_acc: 0.9886\n",
            "Epoch 10/10\n",
            "36078/36078 [==============================] - 37s 1ms/step - loss: 0.0247 - acc: 0.9885 - val_loss: 0.0233 - val_acc: 0.9895\n"
          ],
          "name": "stdout"
        }
      ]
    },
    {
      "metadata": {
        "id": "T7RvXiay0hzA",
        "colab_type": "code",
        "outputId": "36e935cf-4d89-474b-be28-5116eb8a2539",
        "colab": {
          "base_uri": "https://localhost:8080/",
          "height": 51
        }
      },
      "cell_type": "code",
      "source": [
        "# evaluate for the test set\n",
        "model.evaluate(x_test, y_test)"
      ],
      "execution_count": 35,
      "outputs": [
        {
          "output_type": "stream",
          "text": [
            "22213/22213 [==============================] - 11s 491us/step\n"
          ],
          "name": "stdout"
        },
        {
          "output_type": "execute_result",
          "data": {
            "text/plain": [
              "[0.023060434805201424, 0.9883176518255076]"
            ]
          },
          "metadata": {
            "tags": []
          },
          "execution_count": 35
        }
      ]
    },
    {
      "metadata": {
        "id": "ZoLmy4Ip1rm0",
        "colab_type": "text"
      },
      "cell_type": "markdown",
      "source": [
        "## CNN"
      ]
    },
    {
      "metadata": {
        "id": "A-Z1md4T1oAJ",
        "colab_type": "code",
        "outputId": "5dfa5ebc-f180-4acb-d668-299e02b060a7",
        "colab": {
          "base_uri": "https://localhost:8080/",
          "height": 340
        }
      },
      "cell_type": "code",
      "source": [
        "## CNN\n",
        "# --- Setting up a Sigmoid Sequential Model ---\n",
        "# Initialize model\n",
        "model_conv = Sequential()\n",
        "model_conv.add(Embedding(10000,100, input_length=24))\n",
        "model_conv.add(Conv1D(64, 2, activation='relu'))\n",
        "model_conv.add(Conv1D(64, 3, activation='relu'))\n",
        "model_conv.add(MaxPooling1D(pool_size=4))\n",
        "model_conv.add(Flatten())\n",
        "model_conv.add(Dense(2, activation='softmax'))\n",
        "model_conv.summary()"
      ],
      "execution_count": 36,
      "outputs": [
        {
          "output_type": "stream",
          "text": [
            "_________________________________________________________________\n",
            "Layer (type)                 Output Shape              Param #   \n",
            "=================================================================\n",
            "embedding_2 (Embedding)      (None, 24, 100)           1000000   \n",
            "_________________________________________________________________\n",
            "conv1d_1 (Conv1D)            (None, 23, 64)            12864     \n",
            "_________________________________________________________________\n",
            "conv1d_2 (Conv1D)            (None, 21, 64)            12352     \n",
            "_________________________________________________________________\n",
            "max_pooling1d_1 (MaxPooling1 (None, 5, 64)             0         \n",
            "_________________________________________________________________\n",
            "flatten_4 (Flatten)          (None, 320)               0         \n",
            "_________________________________________________________________\n",
            "dense_10 (Dense)             (None, 2)                 642       \n",
            "=================================================================\n",
            "Total params: 1,025,858\n",
            "Trainable params: 1,025,858\n",
            "Non-trainable params: 0\n",
            "_________________________________________________________________\n"
          ],
          "name": "stdout"
        }
      ]
    },
    {
      "metadata": {
        "id": "iN-lOCzn3u5u",
        "colab_type": "code",
        "colab": {}
      },
      "cell_type": "code",
      "source": [
        "model_conv.compile(loss='categorical_crossentropy',\n",
        "              optimizer='rmsprop',\n",
        "              metrics=['accuracy'])\n"
      ],
      "execution_count": 0,
      "outputs": []
    },
    {
      "metadata": {
        "id": "eGiUyp_V3zNm",
        "colab_type": "code",
        "outputId": "9166e7cf-f289-40b6-ccb7-85179b93ad0b",
        "colab": {
          "base_uri": "https://localhost:8080/",
          "height": 408
        }
      },
      "cell_type": "code",
      "source": [
        "model_conv.fit(x_train, y_train,\n",
        "                   epochs = 10,\n",
        "                   batch_size = 64,validation_split = 0.2)\n",
        "\n",
        "scores = model_conv.evaluate(x_test, y_test) \n",
        "print(\"%s: %.2f%%\" % (model_conv.metrics_names[1], scores[1]*100))"
      ],
      "execution_count": 38,
      "outputs": [
        {
          "output_type": "stream",
          "text": [
            "Train on 36078 samples, validate on 9020 samples\n",
            "Epoch 1/10\n",
            "36078/36078 [==============================] - 5s 147us/step - loss: 0.0457 - acc: 0.9835 - val_loss: 0.0245 - val_acc: 0.9859\n",
            "Epoch 2/10\n",
            "36078/36078 [==============================] - 5s 131us/step - loss: 0.0226 - acc: 0.9891 - val_loss: 0.0200 - val_acc: 0.9901\n",
            "Epoch 3/10\n",
            "36078/36078 [==============================] - 5s 131us/step - loss: 0.0198 - acc: 0.9915 - val_loss: 0.0204 - val_acc: 0.9894\n",
            "Epoch 4/10\n",
            "36078/36078 [==============================] - 5s 132us/step - loss: 0.0176 - acc: 0.9920 - val_loss: 0.0204 - val_acc: 0.9907\n",
            "Epoch 5/10\n",
            "36078/36078 [==============================] - 5s 131us/step - loss: 0.0161 - acc: 0.9939 - val_loss: 0.0198 - val_acc: 0.9918\n",
            "Epoch 6/10\n",
            "36078/36078 [==============================] - 5s 133us/step - loss: 0.0145 - acc: 0.9937 - val_loss: 0.0201 - val_acc: 0.9908\n",
            "Epoch 7/10\n",
            "36078/36078 [==============================] - 5s 133us/step - loss: 0.0130 - acc: 0.9950 - val_loss: 0.0268 - val_acc: 0.9881\n",
            "Epoch 8/10\n",
            "36078/36078 [==============================] - 5s 134us/step - loss: 0.0116 - acc: 0.9956 - val_loss: 0.0244 - val_acc: 0.9909\n",
            "Epoch 9/10\n",
            "36078/36078 [==============================] - 5s 134us/step - loss: 0.0102 - acc: 0.9963 - val_loss: 0.0247 - val_acc: 0.9917\n",
            "Epoch 10/10\n",
            "36078/36078 [==============================] - 5s 133us/step - loss: 0.0094 - acc: 0.9964 - val_loss: 0.0248 - val_acc: 0.9915\n",
            "22213/22213 [==============================] - 2s 75us/step\n",
            "acc: 99.14%\n"
          ],
          "name": "stdout"
        }
      ]
    },
    {
      "metadata": {
        "id": "H3BXAsNlMOeO",
        "colab_type": "code",
        "colab": {
          "base_uri": "https://localhost:8080/",
          "height": 34
        },
        "outputId": "8638327a-f7c0-4153-826b-2e797515072c"
      },
      "cell_type": "code",
      "source": [
        "# test accuracy\n",
        "print(\"%s: %.2f%%\" % (model_conv.metrics_names[1], scores[1]*100))"
      ],
      "execution_count": 39,
      "outputs": [
        {
          "output_type": "stream",
          "text": [
            "acc: 99.14%\n"
          ],
          "name": "stdout"
        }
      ]
    },
    {
      "metadata": {
        "id": "I9z6WwUKAqbK",
        "colab_type": "text"
      },
      "cell_type": "markdown",
      "source": [
        "## Compare the two methods"
      ]
    },
    {
      "metadata": {
        "id": "JPi72wpGDr8F",
        "colab_type": "text"
      },
      "cell_type": "markdown",
      "source": [
        "### RNN and CNN"
      ]
    },
    {
      "metadata": {
        "id": "CMdnTxjPAp8_",
        "colab_type": "code",
        "colab": {}
      },
      "cell_type": "code",
      "source": [
        "from sklearn.metrics import roc_curve\n",
        "y_pred_rnn =model.predict(x_test)\n",
        "y_pred_cnn =model_conv.predict(x_test)\n",
        "# convert the categorical 2D to 1D dimension for y_prediction\n",
        "Y_pred_rnn = []\n",
        "Y_pred_cnn = []\n",
        "for i in y_pred_rnn:\n",
        "  if i[0] >= i[1]:\n",
        "    Y_pred_rnn.append(0)\n",
        "  else:\n",
        "    Y_pred_rnn.append(1)\n",
        "\n",
        "for i in y_pred_cnn:\n",
        "  if i[0] >= i[1]:\n",
        "    Y_pred_cnn.append(0)\n",
        "  else:\n",
        "    Y_pred_cnn.append(1)    \n",
        "fpr_rnn, tpr_rnn, thresholds_r = roc_curve(Y_test, Y_pred_rnn)\n",
        "fpr_cnn, tpr_cnn, thresholds_c = roc_curve(Y_test, Y_pred_cnn)"
      ],
      "execution_count": 0,
      "outputs": []
    },
    {
      "metadata": {
        "id": "gpXbKECkCjWy",
        "colab_type": "code",
        "outputId": "e507f77b-c0c2-4ca2-d759-f8deb7a7d655",
        "colab": {
          "base_uri": "https://localhost:8080/",
          "height": 376
        }
      },
      "cell_type": "code",
      "source": [
        "# auc\n",
        "from sklearn.metrics import auc\n",
        "auc_rnn = auc(fpr_rnn, tpr_rnn)\n",
        "auc_cnn = auc(fpr_cnn, tpr_cnn)\n",
        "\n",
        "# ROC curve\n",
        "plt.figure(1)\n",
        "plt.plot([0, 1], [0, 1], 'k--')\n",
        "plt.plot(fpr_rnn, tpr_rnn, label='RNN (area = {:.3f})'.format(auc_rnn))\n",
        "plt.plot(fpr_cnn, tpr_cnn, label='CNN (area = {:.3f})'.format(auc_cnn))\n",
        "plt.xlabel('False positive rate')\n",
        "plt.ylabel('True positive rate')\n",
        "plt.title('ROC curve')\n",
        "plt.legend(loc='best')\n",
        "plt.show()"
      ],
      "execution_count": 0,
      "outputs": [
        {
          "output_type": "display_data",
          "data": {
            "image/png": "[encoded data removed]",
            "text/plain": [
              "<matplotlib.figure.Figure at 0x7f83472618d0>"
            ]
          },
          "metadata": {
            "tags": []
          }
        }
      ]
    },
    {
      "metadata": {
        "id": "gAH-qWBbKWtt",
        "colab_type": "text"
      },
      "cell_type": "markdown",
      "source": [
        "From the ROC curve, we could see that the RNN is better than CNN since the area under the curve is larger for RNN."
      ]
    }
  ]
}